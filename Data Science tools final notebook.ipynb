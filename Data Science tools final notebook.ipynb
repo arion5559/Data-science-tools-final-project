{
 "cells": [
  {
   "cell_type": "markdown",
   "id": "307549aa-237f-4e1e-afbf-7cc98880b6d3",
   "metadata": {},
   "source": [
    "# Data Science Tools and Ecosystem"
   ]
  },
  {
   "cell_type": "markdown",
   "id": "eaae360d-6419-4f81-be7a-4c1e259485fb",
   "metadata": {},
   "source": [
    "### Hi, I'm Javier, future intern of data analytic and student of final year of Multi-platform App Development"
   ]
  },
  {
   "cell_type": "markdown",
   "id": "015112f5-7977-4bcf-8690-645374490ff7",
   "metadata": {},
   "source": [
    "Data science languages\n",
    "<ol>\n",
    "    <li>Python</li>\n",
    "    <li>SQL</li>\n",
    "    <li>R</li>\n",
    "    <li>Julia</li>\n",
    "    <li>Java</li>\n",
    "    <li>C++</li>\n",
    "    <li>Scala</li>\n",
    "    <li>Go</li>\n",
    "    <li>Matlab</li>\n",
    "<ol>"
   ]
  },
  {
   "cell_type": "markdown",
   "id": "5d34af06-499f-4381-879b-01ea03a290c7",
   "metadata": {},
   "source": [
    "Data Science libraries\n",
    "<ol>\n",
    "    <li>NumPy</li>\n",
    "    <li>Pandas</li>\n",
    "    <li>Scikit-Learn</li>\n",
    "    <li>TensorFlow</li>\n",
    "    <li>Spark</li>\n",
    "<ol>"
   ]
  },
  {
   "cell_type": "markdown",
   "id": "3efc1d26-05de-4898-a3d9-fd7fc784cb4b",
   "metadata": {},
   "source": [
    "Data Science tools\n",
    "<table>\n",
    "    <thead>\n",
    "        Data Science tools\n",
    "    </thead>\n",
    "    <tbody>\n",
    "    <tr>\n",
    "    <th>Jupyter Notebook</th>\n",
    "        </tr>\n",
    "        <tr>\n",
    "    <th>Google Colab</th>\n",
    "        </tr>\n",
    "        <tr>\n",
    "    <th>IBM Watson Studio</th>\n",
    "        </tr>\n",
    "        <tr>\n",
    "    <th>Azure Machine learning</th>\n",
    "        </tr>\n",
    "        <tr>\n",
    "            <th>Tableau</th>\n",
    "        </tr>\n",
    "        <tr>\n",
    "    <th>Power BI</th>\n",
    "        </tr>\n",
    "        <tr>\n",
    "    <th>Spark</th>\n",
    "        </tr>\n",
    "        <tr>\n",
    "    <th>Hadoop</th>\n",
    "        </tr>\n",
    "        <tr>\n",
    "    <th>KNIME</th>\n",
    "        </tr>\n",
    "        <tr>\n",
    "    <th>RapidMiner</th>\n",
    "    </tr>\n",
    "    </tbody>\n",
    "</table>"
   ]
  },
  {
   "cell_type": "markdown",
   "id": "628db522-d58f-4961-a98e-657671455f7b",
   "metadata": {},
   "source": [
    "### Here are some examples of arithmetic expressions in Python"
   ]
  },
  {
   "cell_type": "code",
   "execution_count": 1,
   "id": "8855a747-db5d-4326-9769-2222f8c85edd",
   "metadata": {},
   "outputs": [
    {
     "name": "stdout",
     "output_type": "stream",
     "text": [
      "17.0\n"
     ]
    }
   ],
   "source": [
    "x = (9/3) * 6 - 1\n",
    "print(x)"
   ]
  },
  {
   "cell_type": "code",
   "execution_count": 3,
   "id": "2116fad5-7fca-4661-a4d4-3d2b6e8378a9",
   "metadata": {},
   "outputs": [
    {
     "name": "stdout",
     "output_type": "stream",
     "text": [
      "3.3333333333333335\n"
     ]
    }
   ],
   "source": [
    "minutes = 200\n",
    "hours = minutes / 60\n",
    "print(hours)"
   ]
  },
  {
   "cell_type": "markdown",
   "id": "339de5fa-a3d4-4425-9e0f-1c650488db65",
   "metadata": {},
   "source": [
    "<ol>\n",
    "    <li>Add comments</li>\n",
    "    <li>Create markdown cells</li>\n",
    "    <li>Add ol and ul to the cells</li>\n",
    "    <li>Format the content of the markdown</li>\n",
    "</ol>"
   ]
  },
  {
   "cell_type": "markdown",
   "id": "ba3bf491-b15b-43c3-a4f7-1c9e8e321282",
   "metadata": {},
   "source": [
    "## Author\n",
    "Javier Campos"
   ]
  },
  {
   "cell_type": "code",
   "execution_count": null,
   "id": "817566d7-bfdf-458b-941e-e33defad5363",
   "metadata": {},
   "outputs": [],
   "source": []
  }
 ],
 "metadata": {
  "kernelspec": {
   "display_name": "Python",
   "language": "python",
   "name": "conda-env-python-py"
  },
  "language_info": {
   "codemirror_mode": {
    "name": "ipython",
    "version": 3
   },
   "file_extension": ".py",
   "mimetype": "text/x-python",
   "name": "python",
   "nbconvert_exporter": "python",
   "pygments_lexer": "ipython3",
   "version": "3.7.12"
  }
 },
 "nbformat": 4,
 "nbformat_minor": 5
}

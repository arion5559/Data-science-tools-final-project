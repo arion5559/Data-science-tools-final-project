{
 "cells": [
  {
   "cell_type": "markdown",
   "id": "307549aa-237f-4e1e-afbf-7cc98880b6d3",
   "metadata": {},
   "source": [
    "# Javier's Jupyter Notebook"
   ]
  },
  {
   "cell_type": "markdown",
   "id": "eaae360d-6419-4f81-be7a-4c1e259485fb",
   "metadata": {},
   "source": [
    "### Hi, I'm Javier, future intern of data analytic and student of final year of Multi-platform App Development"
   ]
  },
  {
   "cell_type": "markdown",
   "id": "015112f5-7977-4bcf-8690-645374490ff7",
   "metadata": {},
   "source": [
    "Data science languages\n",
    "<ul>\n",
    "    <li>Python</li>\n",
    "    <li>SQL</li>\n",
    "    <li>R</li>\n",
    "    <li>Julia</li>\n",
    "    <li>Java</li>\n",
    "    <li>C++</li>\n",
    "    <li>Scala</li>\n",
    "    <li>Go</li>\n",
    "    <li>Matlab</li>\n",
    "<ul>"
   ]
  },
  {
   "cell_type": "markdown",
   "id": "5d34af06-499f-4381-879b-01ea03a290c7",
   "metadata": {},
   "source": [
    "Data Science libraries\n",
    "<ul>\n",
    "    <li>NumPy</li>\n",
    "    <li>Pandas</li>\n",
    "    <li>Scikit-Learn</li>\n",
    "    <li>TensorFlow</li>\n",
    "    <li>Spark</li>\n",
    "<ul>"
   ]
  },
  {
   "cell_type": "markdown",
   "id": "3efc1d26-05de-4898-a3d9-fd7fc784cb4b",
   "metadata": {},
   "source": [
    "Data Science tools\n",
    "<ul>\n",
    "    <li>Jupyter Notebook</li>\n",
    "    <li>Google Colab</li>\n",
    "    <li>IBM Watson Studio</li>\n",
    "    <li>Azure Machine learning</li>\n",
    "    <li>Tableau</li>\n",
    "    <li>Power BI</li>\n",
    "    <li>Spark</li>\n",
    "    <li>Hadoop</li>\n",
    "    <li>KNIME</li>\n",
    "    <li>RapidMiner</li>\n",
    "<ul>"
   ]
  },
  {
   "cell_type": "markdown",
   "id": "628db522-d58f-4961-a98e-657671455f7b",
   "metadata": {},
   "source": [
    "$1+1=2$<br/>\n",
    "$332*2=664$"
   ]
  },
  {
   "cell_type": "code",
   "execution_count": 2,
   "id": "8855a747-db5d-4326-9769-2222f8c85edd",
   "metadata": {},
   "outputs": [
    {
     "name": "stdout",
     "output_type": "stream",
     "text": [
      "30\n"
     ]
    }
   ],
   "source": [
    "x = 2 + 3\n",
    "y = x * 6\n",
    "print(y)"
   ]
  },
  {
   "cell_type": "code",
   "execution_count": 3,
   "id": "2116fad5-7fca-4661-a4d4-3d2b6e8378a9",
   "metadata": {},
   "outputs": [
    {
     "name": "stdout",
     "output_type": "stream",
     "text": [
      "2.0\n"
     ]
    }
   ],
   "source": [
    "minutes = 120\n",
    "hours = minutes / 60\n",
    "print(hours)"
   ]
  },
  {
   "cell_type": "code",
   "execution_count": null,
   "id": "3f08700d-6bcc-443e-a76e-4cb75189bfbd",
   "metadata": {},
   "outputs": [],
   "source": [
    "<ol>\n",
    "    <li>Learn Data "
   ]
  }
 ],
 "metadata": {
  "kernelspec": {
   "display_name": "Python",
   "language": "python",
   "name": "conda-env-python-py"
  },
  "language_info": {
   "codemirror_mode": {
    "name": "ipython",
    "version": 3
   },
   "file_extension": ".py",
   "mimetype": "text/x-python",
   "name": "python",
   "nbconvert_exporter": "python",
   "pygments_lexer": "ipython3",
   "version": "3.7.12"
  }
 },
 "nbformat": 4,
 "nbformat_minor": 5
}
